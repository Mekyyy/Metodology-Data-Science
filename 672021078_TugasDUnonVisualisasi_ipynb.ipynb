{
  "nbformat": 4,
  "nbformat_minor": 0,
  "metadata": {
    "colab": {
      "provenance": [],
      "authorship_tag": "ABX9TyO4xCo0bwFf9p66nsZ6MNzZ",
      "include_colab_link": true
    },
    "kernelspec": {
      "name": "python3",
      "display_name": "Python 3"
    },
    "language_info": {
      "name": "python"
    }
  },
  "cells": [
    {
      "cell_type": "markdown",
      "metadata": {
        "id": "view-in-github",
        "colab_type": "text"
      },
      "source": [
        "<a href=\"https://colab.research.google.com/github/Mekyyy/Metodology-Data-Science/blob/main/672021078_TugasDUnonVisualisasi_ipynb.ipynb\" target=\"_parent\"><img src=\"https://colab.research.google.com/assets/colab-badge.svg\" alt=\"Open In Colab\"/></a>"
      ]
    },
    {
      "cell_type": "code",
      "execution_count": null,
      "metadata": {
        "colab": {
          "base_uri": "https://localhost:8080/"
        },
        "id": "Zb5VjNWV8cnK",
        "outputId": "b819598a-b9c2-40aa-faea-ad00ec99768c"
      },
      "outputs": [
        {
          "output_type": "stream",
          "name": "stdout",
          "text": [
            "Archive:  CCS-master.zip\n",
            "7fed3ec99524ebd276c16678586bcaa36883b98a\n",
            "replace CCS-master/README.md? [y]es, [n]o, [A]ll, [N]one, [r]ename: y\n",
            "  inflating: CCS-master/README.md    \n",
            "replace CCS-master/Tasks.md? [y]es, [n]o, [A]ll, [N]one, [r]ename: y\n",
            "  inflating: CCS-master/Tasks.md     \n",
            "replace CCS-master/sample data/customers.csv? [y]es, [n]o, [A]ll, [N]one, [r]ename: y\n",
            "  inflating: CCS-master/sample data/customers.csv  \n",
            "replace CCS-master/sample data/gasstations.csv? [y]es, [n]o, [A]ll, [N]one, [r]ename: y\n",
            "  inflating: CCS-master/sample data/gasstations.csv  \n",
            "replace CCS-master/sample data/products.csv? [y]es, [n]o, [A]ll, [N]one, [r]ename: y\n",
            "  inflating: CCS-master/sample data/products.csv  \n",
            "replace CCS-master/sample data/sample.csv? [y]es, [n]o, [A]ll, [N]one, [r]ename: y\n",
            "  inflating: CCS-master/sample data/sample.csv  \n"
          ]
        }
      ],
      "source": [
        "!unzip CCS-master.zip"
      ]
    },
    {
      "cell_type": "code",
      "source": [
        "import pandas as pd\n",
        "import numpy as np\n",
        "import matplotlib.pyplot as plt"
      ],
      "metadata": {
        "id": "sG4PtudW9Jq1"
      },
      "execution_count": null,
      "outputs": []
    },
    {
      "cell_type": "code",
      "source": [
        "df = pd.read_csv(\"/content/CCS-master/sample data/sample.csv\")"
      ],
      "metadata": {
        "id": "m4EavO0BAQ5J"
      },
      "execution_count": null,
      "outputs": []
    },
    {
      "cell_type": "code",
      "source": [
        "df.head()"
      ],
      "metadata": {
        "id": "yAlbJt-2BrcB",
        "colab": {
          "base_uri": "https://localhost:8080/",
          "height": 206
        },
        "outputId": "23f003cb-c6ca-448b-85d6-39b9acb1b9d8"
      },
      "execution_count": null,
      "outputs": [
        {
          "output_type": "execute_result",
          "data": {
            "text/plain": [
              "         Date      Time  CustomerID  CardID  GasStationID  ProductID  Amount  \\\n",
              "0  2012-01-01  00:18:00       41113  645177           363          2   93.75   \n",
              "1  2012-01-01  02:05:00       30766  496967          1083          2  132.10   \n",
              "2  2012-01-01  00:27:00       31576  618868           109          5   21.35   \n",
              "3  2012-01-01  06:56:00        3800  598481          5298        322   52.50   \n",
              "4  2012-01-01  05:46:00        3493   34405          5163        317   70.00   \n",
              "\n",
              "       Price  \n",
              "0  2038.5750  \n",
              "1  3002.6920  \n",
              "2   462.9240  \n",
              "3    47.0239  \n",
              "4    61.8310  "
            ],
            "text/html": [
              "\n",
              "  <div id=\"df-3d81435b-eda1-47f5-a856-908eb8179f91\" class=\"colab-df-container\">\n",
              "    <div>\n",
              "<style scoped>\n",
              "    .dataframe tbody tr th:only-of-type {\n",
              "        vertical-align: middle;\n",
              "    }\n",
              "\n",
              "    .dataframe tbody tr th {\n",
              "        vertical-align: top;\n",
              "    }\n",
              "\n",
              "    .dataframe thead th {\n",
              "        text-align: right;\n",
              "    }\n",
              "</style>\n",
              "<table border=\"1\" class=\"dataframe\">\n",
              "  <thead>\n",
              "    <tr style=\"text-align: right;\">\n",
              "      <th></th>\n",
              "      <th>Date</th>\n",
              "      <th>Time</th>\n",
              "      <th>CustomerID</th>\n",
              "      <th>CardID</th>\n",
              "      <th>GasStationID</th>\n",
              "      <th>ProductID</th>\n",
              "      <th>Amount</th>\n",
              "      <th>Price</th>\n",
              "    </tr>\n",
              "  </thead>\n",
              "  <tbody>\n",
              "    <tr>\n",
              "      <th>0</th>\n",
              "      <td>2012-01-01</td>\n",
              "      <td>00:18:00</td>\n",
              "      <td>41113</td>\n",
              "      <td>645177</td>\n",
              "      <td>363</td>\n",
              "      <td>2</td>\n",
              "      <td>93.75</td>\n",
              "      <td>2038.5750</td>\n",
              "    </tr>\n",
              "    <tr>\n",
              "      <th>1</th>\n",
              "      <td>2012-01-01</td>\n",
              "      <td>02:05:00</td>\n",
              "      <td>30766</td>\n",
              "      <td>496967</td>\n",
              "      <td>1083</td>\n",
              "      <td>2</td>\n",
              "      <td>132.10</td>\n",
              "      <td>3002.6920</td>\n",
              "    </tr>\n",
              "    <tr>\n",
              "      <th>2</th>\n",
              "      <td>2012-01-01</td>\n",
              "      <td>00:27:00</td>\n",
              "      <td>31576</td>\n",
              "      <td>618868</td>\n",
              "      <td>109</td>\n",
              "      <td>5</td>\n",
              "      <td>21.35</td>\n",
              "      <td>462.9240</td>\n",
              "    </tr>\n",
              "    <tr>\n",
              "      <th>3</th>\n",
              "      <td>2012-01-01</td>\n",
              "      <td>06:56:00</td>\n",
              "      <td>3800</td>\n",
              "      <td>598481</td>\n",
              "      <td>5298</td>\n",
              "      <td>322</td>\n",
              "      <td>52.50</td>\n",
              "      <td>47.0239</td>\n",
              "    </tr>\n",
              "    <tr>\n",
              "      <th>4</th>\n",
              "      <td>2012-01-01</td>\n",
              "      <td>05:46:00</td>\n",
              "      <td>3493</td>\n",
              "      <td>34405</td>\n",
              "      <td>5163</td>\n",
              "      <td>317</td>\n",
              "      <td>70.00</td>\n",
              "      <td>61.8310</td>\n",
              "    </tr>\n",
              "  </tbody>\n",
              "</table>\n",
              "</div>\n",
              "    <div class=\"colab-df-buttons\">\n",
              "\n",
              "  <div class=\"colab-df-container\">\n",
              "    <button class=\"colab-df-convert\" onclick=\"convertToInteractive('df-3d81435b-eda1-47f5-a856-908eb8179f91')\"\n",
              "            title=\"Convert this dataframe to an interactive table.\"\n",
              "            style=\"display:none;\">\n",
              "\n",
              "  <svg xmlns=\"http://www.w3.org/2000/svg\" height=\"24px\" viewBox=\"0 -960 960 960\">\n",
              "    <path d=\"M120-120v-720h720v720H120Zm60-500h600v-160H180v160Zm220 220h160v-160H400v160Zm0 220h160v-160H400v160ZM180-400h160v-160H180v160Zm440 0h160v-160H620v160ZM180-180h160v-160H180v160Zm440 0h160v-160H620v160Z\"/>\n",
              "  </svg>\n",
              "    </button>\n",
              "\n",
              "  <style>\n",
              "    .colab-df-container {\n",
              "      display:flex;\n",
              "      gap: 12px;\n",
              "    }\n",
              "\n",
              "    .colab-df-convert {\n",
              "      background-color: #E8F0FE;\n",
              "      border: none;\n",
              "      border-radius: 50%;\n",
              "      cursor: pointer;\n",
              "      display: none;\n",
              "      fill: #1967D2;\n",
              "      height: 32px;\n",
              "      padding: 0 0 0 0;\n",
              "      width: 32px;\n",
              "    }\n",
              "\n",
              "    .colab-df-convert:hover {\n",
              "      background-color: #E2EBFA;\n",
              "      box-shadow: 0px 1px 2px rgba(60, 64, 67, 0.3), 0px 1px 3px 1px rgba(60, 64, 67, 0.15);\n",
              "      fill: #174EA6;\n",
              "    }\n",
              "\n",
              "    .colab-df-buttons div {\n",
              "      margin-bottom: 4px;\n",
              "    }\n",
              "\n",
              "    [theme=dark] .colab-df-convert {\n",
              "      background-color: #3B4455;\n",
              "      fill: #D2E3FC;\n",
              "    }\n",
              "\n",
              "    [theme=dark] .colab-df-convert:hover {\n",
              "      background-color: #434B5C;\n",
              "      box-shadow: 0px 1px 3px 1px rgba(0, 0, 0, 0.15);\n",
              "      filter: drop-shadow(0px 1px 2px rgba(0, 0, 0, 0.3));\n",
              "      fill: #FFFFFF;\n",
              "    }\n",
              "  </style>\n",
              "\n",
              "    <script>\n",
              "      const buttonEl =\n",
              "        document.querySelector('#df-3d81435b-eda1-47f5-a856-908eb8179f91 button.colab-df-convert');\n",
              "      buttonEl.style.display =\n",
              "        google.colab.kernel.accessAllowed ? 'block' : 'none';\n",
              "\n",
              "      async function convertToInteractive(key) {\n",
              "        const element = document.querySelector('#df-3d81435b-eda1-47f5-a856-908eb8179f91');\n",
              "        const dataTable =\n",
              "          await google.colab.kernel.invokeFunction('convertToInteractive',\n",
              "                                                    [key], {});\n",
              "        if (!dataTable) return;\n",
              "\n",
              "        const docLinkHtml = 'Like what you see? Visit the ' +\n",
              "          '<a target=\"_blank\" href=https://colab.research.google.com/notebooks/data_table.ipynb>data table notebook</a>'\n",
              "          + ' to learn more about interactive tables.';\n",
              "        element.innerHTML = '';\n",
              "        dataTable['output_type'] = 'display_data';\n",
              "        await google.colab.output.renderOutput(dataTable, element);\n",
              "        const docLink = document.createElement('div');\n",
              "        docLink.innerHTML = docLinkHtml;\n",
              "        element.appendChild(docLink);\n",
              "      }\n",
              "    </script>\n",
              "  </div>\n",
              "\n",
              "\n",
              "<div id=\"df-8bed6e92-6744-46b1-9f00-85e7eb0c2ed8\">\n",
              "  <button class=\"colab-df-quickchart\" onclick=\"quickchart('df-8bed6e92-6744-46b1-9f00-85e7eb0c2ed8')\"\n",
              "            title=\"Suggest charts\"\n",
              "            style=\"display:none;\">\n",
              "\n",
              "<svg xmlns=\"http://www.w3.org/2000/svg\" height=\"24px\"viewBox=\"0 0 24 24\"\n",
              "     width=\"24px\">\n",
              "    <g>\n",
              "        <path d=\"M19 3H5c-1.1 0-2 .9-2 2v14c0 1.1.9 2 2 2h14c1.1 0 2-.9 2-2V5c0-1.1-.9-2-2-2zM9 17H7v-7h2v7zm4 0h-2V7h2v10zm4 0h-2v-4h2v4z\"/>\n",
              "    </g>\n",
              "</svg>\n",
              "  </button>\n",
              "\n",
              "<style>\n",
              "  .colab-df-quickchart {\n",
              "      --bg-color: #E8F0FE;\n",
              "      --fill-color: #1967D2;\n",
              "      --hover-bg-color: #E2EBFA;\n",
              "      --hover-fill-color: #174EA6;\n",
              "      --disabled-fill-color: #AAA;\n",
              "      --disabled-bg-color: #DDD;\n",
              "  }\n",
              "\n",
              "  [theme=dark] .colab-df-quickchart {\n",
              "      --bg-color: #3B4455;\n",
              "      --fill-color: #D2E3FC;\n",
              "      --hover-bg-color: #434B5C;\n",
              "      --hover-fill-color: #FFFFFF;\n",
              "      --disabled-bg-color: #3B4455;\n",
              "      --disabled-fill-color: #666;\n",
              "  }\n",
              "\n",
              "  .colab-df-quickchart {\n",
              "    background-color: var(--bg-color);\n",
              "    border: none;\n",
              "    border-radius: 50%;\n",
              "    cursor: pointer;\n",
              "    display: none;\n",
              "    fill: var(--fill-color);\n",
              "    height: 32px;\n",
              "    padding: 0;\n",
              "    width: 32px;\n",
              "  }\n",
              "\n",
              "  .colab-df-quickchart:hover {\n",
              "    background-color: var(--hover-bg-color);\n",
              "    box-shadow: 0 1px 2px rgba(60, 64, 67, 0.3), 0 1px 3px 1px rgba(60, 64, 67, 0.15);\n",
              "    fill: var(--button-hover-fill-color);\n",
              "  }\n",
              "\n",
              "  .colab-df-quickchart-complete:disabled,\n",
              "  .colab-df-quickchart-complete:disabled:hover {\n",
              "    background-color: var(--disabled-bg-color);\n",
              "    fill: var(--disabled-fill-color);\n",
              "    box-shadow: none;\n",
              "  }\n",
              "\n",
              "  .colab-df-spinner {\n",
              "    border: 2px solid var(--fill-color);\n",
              "    border-color: transparent;\n",
              "    border-bottom-color: var(--fill-color);\n",
              "    animation:\n",
              "      spin 1s steps(1) infinite;\n",
              "  }\n",
              "\n",
              "  @keyframes spin {\n",
              "    0% {\n",
              "      border-color: transparent;\n",
              "      border-bottom-color: var(--fill-color);\n",
              "      border-left-color: var(--fill-color);\n",
              "    }\n",
              "    20% {\n",
              "      border-color: transparent;\n",
              "      border-left-color: var(--fill-color);\n",
              "      border-top-color: var(--fill-color);\n",
              "    }\n",
              "    30% {\n",
              "      border-color: transparent;\n",
              "      border-left-color: var(--fill-color);\n",
              "      border-top-color: var(--fill-color);\n",
              "      border-right-color: var(--fill-color);\n",
              "    }\n",
              "    40% {\n",
              "      border-color: transparent;\n",
              "      border-right-color: var(--fill-color);\n",
              "      border-top-color: var(--fill-color);\n",
              "    }\n",
              "    60% {\n",
              "      border-color: transparent;\n",
              "      border-right-color: var(--fill-color);\n",
              "    }\n",
              "    80% {\n",
              "      border-color: transparent;\n",
              "      border-right-color: var(--fill-color);\n",
              "      border-bottom-color: var(--fill-color);\n",
              "    }\n",
              "    90% {\n",
              "      border-color: transparent;\n",
              "      border-bottom-color: var(--fill-color);\n",
              "    }\n",
              "  }\n",
              "</style>\n",
              "\n",
              "  <script>\n",
              "    async function quickchart(key) {\n",
              "      const quickchartButtonEl =\n",
              "        document.querySelector('#' + key + ' button');\n",
              "      quickchartButtonEl.disabled = true;  // To prevent multiple clicks.\n",
              "      quickchartButtonEl.classList.add('colab-df-spinner');\n",
              "      try {\n",
              "        const charts = await google.colab.kernel.invokeFunction(\n",
              "            'suggestCharts', [key], {});\n",
              "      } catch (error) {\n",
              "        console.error('Error during call to suggestCharts:', error);\n",
              "      }\n",
              "      quickchartButtonEl.classList.remove('colab-df-spinner');\n",
              "      quickchartButtonEl.classList.add('colab-df-quickchart-complete');\n",
              "    }\n",
              "    (() => {\n",
              "      let quickchartButtonEl =\n",
              "        document.querySelector('#df-8bed6e92-6744-46b1-9f00-85e7eb0c2ed8 button');\n",
              "      quickchartButtonEl.style.display =\n",
              "        google.colab.kernel.accessAllowed ? 'block' : 'none';\n",
              "    })();\n",
              "  </script>\n",
              "</div>\n",
              "    </div>\n",
              "  </div>\n"
            ],
            "application/vnd.google.colaboratory.intrinsic+json": {
              "type": "dataframe",
              "variable_name": "df",
              "summary": "{\n  \"name\": \"df\",\n  \"rows\": 89,\n  \"fields\": [\n    {\n      \"column\": \"Date\",\n      \"properties\": {\n        \"dtype\": \"object\",\n        \"num_unique_values\": 1,\n        \"samples\": [\n          \"2012-01-01\"\n        ],\n        \"semantic_type\": \"\",\n        \"description\": \"\"\n      }\n    },\n    {\n      \"column\": \"Time\",\n      \"properties\": {\n        \"dtype\": \"object\",\n        \"num_unique_values\": 81,\n        \"samples\": [\n          \"06:29:00\"\n        ],\n        \"semantic_type\": \"\",\n        \"description\": \"\"\n      }\n    },\n    {\n      \"column\": \"CustomerID\",\n      \"properties\": {\n        \"dtype\": \"number\",\n        \"std\": 13321,\n        \"min\": 3493,\n        \"max\": 47835,\n        \"num_unique_values\": 79,\n        \"samples\": [\n          18824\n        ],\n        \"semantic_type\": \"\",\n        \"description\": \"\"\n      }\n    },\n    {\n      \"column\": \"CardID\",\n      \"properties\": {\n        \"dtype\": \"number\",\n        \"std\": 133955,\n        \"min\": 34405,\n        \"max\": 664882,\n        \"num_unique_values\": 83,\n        \"samples\": [\n          423256\n        ],\n        \"semantic_type\": \"\",\n        \"description\": \"\"\n      }\n    },\n    {\n      \"column\": \"GasStationID\",\n      \"properties\": {\n        \"dtype\": \"number\",\n        \"std\": 1655,\n        \"min\": 60,\n        \"max\": 5298,\n        \"num_unique_values\": 59,\n        \"samples\": [\n          363\n        ],\n        \"semantic_type\": \"\",\n        \"description\": \"\"\n      }\n    },\n    {\n      \"column\": \"ProductID\",\n      \"properties\": {\n        \"dtype\": \"number\",\n        \"std\": 81,\n        \"min\": 2,\n        \"max\": 336,\n        \"num_unique_values\": 12,\n        \"samples\": [\n          29\n        ],\n        \"semantic_type\": \"\",\n        \"description\": \"\"\n      }\n    },\n    {\n      \"column\": \"Amount\",\n      \"properties\": {\n        \"dtype\": \"number\",\n        \"std\": 32.76990178594073,\n        \"min\": 0.86,\n        \"max\": 231.275,\n        \"num_unique_values\": 79,\n        \"samples\": [\n          39.4\n        ],\n        \"semantic_type\": \"\",\n        \"description\": \"\"\n      }\n    },\n    {\n      \"column\": \"Price\",\n      \"properties\": {\n        \"dtype\": \"number\",\n        \"std\": 751.7945580916648,\n        \"min\": 11.919,\n        \"max\": 5014.779,\n        \"num_unique_values\": 89,\n        \"samples\": [\n          999.5678\n        ],\n        \"semantic_type\": \"\",\n        \"description\": \"\"\n      }\n    }\n  ]\n}"
            }
          },
          "metadata": {},
          "execution_count": 27
        }
      ]
    },
    {
      "cell_type": "markdown",
      "source": [
        "#Transaksi Costumer Terbanyak"
      ],
      "metadata": {
        "id": "WY1kfL05NfJO"
      }
    },
    {
      "cell_type": "code",
      "source": [
        "custrac = df.groupby('CustomerID')['Amount'].sum()\n",
        "top5 = custrac.sort_values(ascending=False).head(5)"
      ],
      "metadata": {
        "id": "8xYRJzNODePJ"
      },
      "execution_count": null,
      "outputs": []
    },
    {
      "cell_type": "code",
      "source": [
        "top5cus_df = top5.reset_index()\n",
        "top5cus_df.columns = ['Customers', 'Total Transaction']"
      ],
      "metadata": {
        "id": "NXxuVMwHD723"
      },
      "execution_count": null,
      "outputs": []
    },
    {
      "cell_type": "code",
      "source": [
        "plt.figure(figsize=(8, 6))\n",
        "plt.table(cellText=top5cus_df.values,\n",
        "          colLabels=top5cus_df.columns,\n",
        "          cellLoc = 'center', rowLoc = 'center',\n",
        "          loc='center')\n",
        "plt.axis('off')\n",
        "plt.title('Top 5 Customers Transaksi Terbanyak')\n",
        "plt.show()"
      ],
      "metadata": {
        "colab": {
          "base_uri": "https://localhost:8080/",
          "height": 521
        },
        "id": "yRyl6A89EEVN",
        "outputId": "b0dc12de-58cb-4883-bdfb-9c5d032d52e5"
      },
      "execution_count": null,
      "outputs": [
        {
          "output_type": "display_data",
          "data": {
            "text/plain": [
              "<Figure size 800x600 with 1 Axes>"
            ],
            "image/png": "[encoded data removed]"
          },
          "metadata": {}
        }
      ]
    },
    {
      "cell_type": "markdown",
      "source": [
        "#Transaksi Gas Terbanyak"
      ],
      "metadata": {
        "id": "W1Sk8hEONl8e"
      }
    },
    {
      "cell_type": "code",
      "source": [
        "gastrac = df.groupby('GasStationID')['Amount'].sum()\n",
        "top5gas = gastrac.sort_values(ascending=False).head(5)"
      ],
      "metadata": {
        "id": "Xffj2Fm3EJZ1"
      },
      "execution_count": null,
      "outputs": []
    },
    {
      "cell_type": "code",
      "source": [
        "top5gas_df = top5gas.reset_index()\n",
        "top5gas_df.columns = ['Gas Station', 'Total Transaction']"
      ],
      "metadata": {
        "id": "ZQktW0TyELUB"
      },
      "execution_count": null,
      "outputs": []
    },
    {
      "cell_type": "code",
      "source": [
        "plt.figure(figsize=(8, 6))\n",
        "plt.table(cellText=top5gas_df.values,\n",
        "          colLabels=top5gas_df.columns,\n",
        "          cellLoc = 'center', rowLoc = 'center',\n",
        "          loc='center')\n",
        "plt.axis('off')\n",
        "plt.title('Top 5 Gas yang Banyak di Beli')\n",
        "plt.show()"
      ],
      "metadata": {
        "colab": {
          "base_uri": "https://localhost:8080/",
          "height": 521
        },
        "id": "DThrWjMkPzQn",
        "outputId": "a0580162-c745-48a7-f8ae-385514bcab58"
      },
      "execution_count": null,
      "outputs": [
        {
          "output_type": "display_data",
          "data": {
            "text/plain": [
              "<Figure size 800x600 with 1 Axes>"
            ],
            "image/png": "[encoded data removed]"
          },
          "metadata": {}
        }
      ]
    },
    {
      "cell_type": "markdown",
      "source": [
        "#Waktu Terbaik"
      ],
      "metadata": {
        "id": "a-NEMBgiQ0ki"
      }
    },
    {
      "cell_type": "code",
      "source": [
        "df['Date'] = pd.to_datetime(df['Date'])"
      ],
      "metadata": {
        "id": "WJXYCABxP_nO"
      },
      "execution_count": null,
      "outputs": []
    },
    {
      "cell_type": "code",
      "source": [
        "df['Day_EN'] = df['Date'].dt.day_name()"
      ],
      "metadata": {
        "id": "yhqn5zwlQ31Y"
      },
      "execution_count": null,
      "outputs": []
    },
    {
      "cell_type": "code",
      "source": [
        "translations = {\n",
        "\n",
        "    'Sunday': 'Minggu'\n",
        "}\n",
        "df['Day'] = df['Day_EN'].map(translations)"
      ],
      "metadata": {
        "id": "E0bwYb7wXuV0"
      },
      "execution_count": null,
      "outputs": []
    },
    {
      "cell_type": "code",
      "source": [
        "print(df[['Day','Time']])"
      ],
      "metadata": {
        "colab": {
          "base_uri": "https://localhost:8080/"
        },
        "id": "xJE7T_3sUKrC",
        "outputId": "6ff6a31f-1adf-4ce8-8ce7-2b92bbd95232"
      },
      "execution_count": null,
      "outputs": [
        {
          "output_type": "stream",
          "name": "stdout",
          "text": [
            "       Day      Time\n",
            "0   Minggu  00:18:00\n",
            "1   Minggu  02:05:00\n",
            "2   Minggu  00:27:00\n",
            "3   Minggu  06:56:00\n",
            "4   Minggu  05:46:00\n",
            "..     ...       ...\n",
            "84  Minggu  12:16:00\n",
            "85  Minggu  07:27:00\n",
            "86  Minggu  10:05:00\n",
            "87  Minggu  11:58:00\n",
            "88  Minggu  11:58:00\n",
            "\n",
            "[89 rows x 2 columns]\n"
          ]
        }
      ]
    },
    {
      "cell_type": "code",
      "source": [
        "trans_by_day_hour = df.groupby(['Day', 'Time']).size().reset_index(name='Transaction Count')"
      ],
      "metadata": {
        "id": "EBp4k0hwUShC"
      },
      "execution_count": null,
      "outputs": []
    },
    {
      "cell_type": "code",
      "source": [
        "most_transactions = trans_by_day_hour.loc[trans_by_day_hour['Transaction Count'].idxmax()]"
      ],
      "metadata": {
        "id": "lFkj7yktWlQ5"
      },
      "execution_count": null,
      "outputs": []
    },
    {
      "cell_type": "code",
      "source": [
        "print(\"Waktu terbaik untuk transaksi paling banyak:\")\n",
        "print(\"Hari:\", most_transactions['Day'])\n",
        "print(\"Jam:\", most_transactions['Time'])\n",
        "print(\"Jumlah Transaksi:\", most_transactions['Transaction Count'])"
      ],
      "metadata": {
        "colab": {
          "base_uri": "https://localhost:8080/"
        },
        "id": "Refv8CrBWtOf",
        "outputId": "621ca713-0ed2-4b16-9d75-6f83c6b7b478"
      },
      "execution_count": null,
      "outputs": [
        {
          "output_type": "stream",
          "name": "stdout",
          "text": [
            "Waktu terbaik untuk transaksi paling banyak:\n",
            "Hari: Minggu\n",
            "Jam: 04:40:00\n",
            "Jumlah Transaksi: 2\n"
          ]
        }
      ]
    },
    {
      "cell_type": "markdown",
      "source": [
        "Tujuan utama dari analisis data pelanggan adalah untuk memahami perilaku dan preferensi pelanggan guna meningkatkan pengalaman pelanggan, meningkatkan retensi, mengoptimalkan penjualan, dan merancang strategi bisnis yang lebih efektif. Dengan memanfaatkan wawasan dari data pelanggan, perusahaan dapat mengambil langkah-langkah yang lebih tepat sasaran dalam memenuhi kebutuhan pelanggan, meningkatkan loyalitas, dan menciptakan nilai tambah bagi bisnis mereka."
      ],
      "metadata": {
        "id": "FW6S77Y-Yh5m"
      }
    }
  ]
}